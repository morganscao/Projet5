{
 "cells": [
  {
   "cell_type": "markdown",
   "metadata": {},
   "source": [
    "# P5 - Segmentez les comportements de clients"
   ]
  },
  {
   "cell_type": "code",
   "execution_count": 43,
   "metadata": {
    "collapsed": true
   },
   "outputs": [],
   "source": [
    "import pandas as pd\n",
    "import numpy as np\n",
    "import datetime as dt\n",
    "from sklearn.externals import joblib\n"
   ]
  },
  {
   "cell_type": "markdown",
   "metadata": {},
   "source": [
    "## Définition des méthodes"
   ]
  },
  {
   "cell_type": "code",
   "execution_count": 49,
   "metadata": {
    "collapsed": true
   },
   "outputs": [],
   "source": [
    "# Méthodes d'import export\n",
    "CT_DIR = 'obj/'\n",
    "def load_sklearn_obj(name):\n",
    "    return joblib.load(CT_DIR + name + '.pkl')"
   ]
  },
  {
   "cell_type": "code",
   "execution_count": 45,
   "metadata": {
    "collapsed": true
   },
   "outputs": [],
   "source": [
    "def getRScore(x,p,d):\n",
    "    if x <= d[p][0.25]:\n",
    "        return 1\n",
    "    elif x <= d[p][0.50]:\n",
    "        return 2\n",
    "    elif x <= d[p][0.75]: \n",
    "        return 3\n",
    "    else:\n",
    "        return 4\n",
    "    \n",
    "def getFMScore(x,p,d):\n",
    "    if x <= d[p][0.25]:\n",
    "        return 4\n",
    "    elif x <= d[p][0.50]:\n",
    "        return 3\n",
    "    elif x <= d[p][0.75]: \n",
    "        return 2\n",
    "    else:\n",
    "        return 1\n",
    "    \n",
    "# Méthode de création d'un table RFM à partir d'un dataframe\n",
    "def getRFM(p_df):\n",
    "    # Référence pour calculer la récence\n",
    "    # On prends la dernière date du dataframe et on ajoute un jour\n",
    "    dtmax = p_df.InvoiceDate.max()\n",
    "    NOW = dt.datetime(dtmax.year, dtmax.month, dtmax.day) + datetime.timedelta(days=1)\n",
    "    print('Date de référence :', NOW)\n",
    "\n",
    "    ret = p_df.groupby('CustomerID').agg({'InvoiceDate': lambda x: (NOW - x.max()).days, \n",
    "                                         'InvoiceNo': lambda x: len(x), \n",
    "                                         'TotalPrice': lambda x: x.sum(),\n",
    "                                         'Cancel': lambda x: x.sum(),\n",
    "                                         'Promo': lambda x: x.sum(),\n",
    "                                         'UK': lambda x: 1 if (x.all()>0) else 0,\n",
    "                                         'CODE_POST': lambda x: x.sum(),\n",
    "                                         'CODE_D': lambda x: x.sum(),\n",
    "                                         'CODE_C2': lambda x: x.sum(),\n",
    "                                         'CODE_M': lambda x: x.sum(),\n",
    "                                                        })\n",
    "    # Un prix total négatif correspond certainement à des retours clients dont l'achat n'était pas dans la base, on le met à 0\n",
    "    ret.loc[ret.TotalPrice < 0, 'TotalPrice'] = 0\n",
    "    # La date est maintenant un nombre de jours\n",
    "    ret['InvoiceDate'] = ret['InvoiceDate'].astype(int)\n",
    "    # On peut renommer les colonnes pour plus de clarté\n",
    "    ret.rename(columns = {'InvoiceDate': 'recency', \n",
    "                         'InvoiceNo': 'frequency', \n",
    "                         'TotalPrice': 'monetary_value',\n",
    "                         'CODE_D': 'CODE_DISCOUNT',\n",
    "                         'CODE_C2': 'CODE_CARRIAGE',\n",
    "                         'CODE_M': 'CODE_MANUAL',\n",
    "                         }, inplace=True)\n",
    "    \n",
    "    quantiles = ret.quantile(q=[0.25,0.5,0.75])\n",
    "    quantiles = quantiles.to_dict()\n",
    "    \n",
    "    ret['r_quartile'] = ret['recency'].apply(getRScore, args=('recency',quantiles))\n",
    "    ret['f_quartile'] = ret['frequency'].apply(getFMScore, args=('frequency',quantiles))\n",
    "    ret['m_quartile'] = ret['monetary_value'].apply(getFMScore, args=('monetary_value',quantiles))\n",
    "\n",
    "    ret['RFMScore'] = ret.r_quartile.map(str) + ret.f_quartile.map(str) + ret.m_quartile.map(str)\n",
    "\n",
    "    return ret"
   ]
  },
  {
   "cell_type": "code",
   "execution_count": 82,
   "metadata": {
    "collapsed": true
   },
   "outputs": [],
   "source": [
    "def getCategory(df):\n",
    "    df = df[pd.notnull(df['CustomerID'])]\n",
    "    #df.drop_duplicates(inplace = True)\n",
    "\n",
    "    # Quantité négative = Annulation de commande\n",
    "    df['Cancel'] = 0\n",
    "    df.loc[df.Quantity <= 0, 'Cancel'] = 1\n",
    "    # Prix nul = Promo\n",
    "    df['Promo'] = 0\n",
    "    df.loc[df.UnitPrice == 0, 'Promo'] = 1\n",
    "    # Pays UK ou non\n",
    "    df['UK'] = 1\n",
    "    df.loc[df.Country != 'United Kingdom', 'UK'] = 0\n",
    "\n",
    "    # Prix total de la ligne\n",
    "    df['TotalPrice'] = df['Quantity'] * df['UnitPrice']\n",
    "\n",
    "    # Codes spéciaux\n",
    "    lst_codes = ['POST', 'D', 'C2', 'M']\n",
    "    for code in lst_codes:\n",
    "        df['CODE_' + code] = 0\n",
    "        df.loc[df.StockCode == code, 'CODE_' + code] = 1\n",
    "\n",
    "    # Historique\n",
    "    df['InvoiceDateM'] = df['InvoiceDate'].dt.month\n",
    "    aggreg = {\n",
    "        'Quantity':[\n",
    "            'sum',\n",
    "            'max',\n",
    "            'min'\n",
    "        ],\n",
    "        'TotalPrice':[\n",
    "            'sum',\n",
    "            'max',\n",
    "            'min'\n",
    "        ]\n",
    "    }\n",
    "    dfhisto = df.groupby(['CustomerID', 'InvoiceDateM']).agg(aggreg).unstack()\n",
    "    \n",
    "    # Table RFM\n",
    "    rfmTable = getRFM(df)\n",
    "    # On enlève les features redondantes\n",
    "    #del rfmTable['RFMScore']\n",
    "    #del rfmTable['recency']\n",
    "    #del rfmTable['frequency']\n",
    "    #del rfmTable['monetary_value']\n",
    "\n",
    "    dfTotale = pd.concat([rfmTable, dfhisto], axis=1)\n",
    "\n",
    "    dfTotale = dfTotale.fillna(0)\n",
    "\n",
    "    scaler = load_sklearn_obj('model_scaler')\n",
    "    X_scaled = scaler.transform(dfTotale)\n",
    "\n",
    "    model = load_sklearn_obj('model')\n",
    "    \n",
    "#    y_pred = pd.DataFrame(model.predict(X_scaled))\n",
    "    y_pred = model.predict(X_scaled)\n",
    "    display(y_pred)\n",
    "    \n",
    "    dfTotale['CustomerCategory'] = y_pred\n",
    "    #df = pd.concat([dfTotale, y_pred], axis=1)\n",
    "\n",
    "    return dfTotale[['CustomerCategory']]"
   ]
  },
  {
   "cell_type": "code",
   "execution_count": null,
   "metadata": {
    "collapsed": true
   },
   "outputs": [],
   "source": []
  },
  {
   "cell_type": "markdown",
   "metadata": {},
   "source": [
    "## Exploration de l'historique des clients"
   ]
  },
  {
   "cell_type": "code",
   "execution_count": 83,
   "metadata": {},
   "outputs": [
    {
     "name": "stdout",
     "output_type": "stream",
     "text": [
      "(1, 8)\n"
     ]
    },
    {
     "data": {
      "text/html": [
       "<div>\n",
       "<style>\n",
       "    .dataframe thead tr:only-child th {\n",
       "        text-align: right;\n",
       "    }\n",
       "\n",
       "    .dataframe thead th {\n",
       "        text-align: left;\n",
       "    }\n",
       "\n",
       "    .dataframe tbody tr th {\n",
       "        vertical-align: top;\n",
       "    }\n",
       "</style>\n",
       "<table border=\"1\" class=\"dataframe\">\n",
       "  <thead>\n",
       "    <tr style=\"text-align: right;\">\n",
       "      <th></th>\n",
       "      <th>InvoiceNo</th>\n",
       "      <th>StockCode</th>\n",
       "      <th>Description</th>\n",
       "      <th>Quantity</th>\n",
       "      <th>InvoiceDate</th>\n",
       "      <th>UnitPrice</th>\n",
       "      <th>CustomerID</th>\n",
       "      <th>Country</th>\n",
       "    </tr>\n",
       "  </thead>\n",
       "  <tbody>\n",
       "    <tr>\n",
       "      <th>0</th>\n",
       "      <td>536365</td>\n",
       "      <td>85123A</td>\n",
       "      <td>WHITE HANGING HEART T-LIGHT HOLDER</td>\n",
       "      <td>6</td>\n",
       "      <td>2010-12-01 08:26:00</td>\n",
       "      <td>2.55</td>\n",
       "      <td>17850</td>\n",
       "      <td>United Kingdom</td>\n",
       "    </tr>\n",
       "  </tbody>\n",
       "</table>\n",
       "</div>"
      ],
      "text/plain": [
       "   InvoiceNo StockCode                         Description  Quantity  \\\n",
       "0     536365    85123A  WHITE HANGING HEART T-LIGHT HOLDER         6   \n",
       "\n",
       "          InvoiceDate  UnitPrice  CustomerID         Country  \n",
       "0 2010-12-01 08:26:00       2.55       17850  United Kingdom  "
      ]
     },
     "execution_count": 83,
     "metadata": {},
     "output_type": "execute_result"
    }
   ],
   "source": [
    "CT_DIR_DATA = 'data/'\n",
    "df = pd.read_excel(CT_DIR_DATA + 'TestRetail.xlsx')\n",
    "print(df.shape)\n",
    "df.head()"
   ]
  },
  {
   "cell_type": "code",
   "execution_count": 84,
   "metadata": {},
   "outputs": [
    {
     "name": "stdout",
     "output_type": "stream",
     "text": [
      "(12, 8)\n"
     ]
    },
    {
     "data": {
      "text/html": [
       "<div>\n",
       "<style>\n",
       "    .dataframe thead tr:only-child th {\n",
       "        text-align: right;\n",
       "    }\n",
       "\n",
       "    .dataframe thead th {\n",
       "        text-align: left;\n",
       "    }\n",
       "\n",
       "    .dataframe tbody tr th {\n",
       "        vertical-align: top;\n",
       "    }\n",
       "</style>\n",
       "<table border=\"1\" class=\"dataframe\">\n",
       "  <thead>\n",
       "    <tr style=\"text-align: right;\">\n",
       "      <th></th>\n",
       "      <th>InvoiceNo</th>\n",
       "      <th>StockCode</th>\n",
       "      <th>Description</th>\n",
       "      <th>Quantity</th>\n",
       "      <th>InvoiceDate</th>\n",
       "      <th>UnitPrice</th>\n",
       "      <th>CustomerID</th>\n",
       "      <th>Country</th>\n",
       "    </tr>\n",
       "  </thead>\n",
       "  <tbody>\n",
       "    <tr>\n",
       "      <th>0</th>\n",
       "      <td>999999</td>\n",
       "      <td>85123A</td>\n",
       "      <td>WHITE HANGING HEART T-LIGHT HOLDER</td>\n",
       "      <td>6</td>\n",
       "      <td>2010-01-01 08:26:00</td>\n",
       "      <td>2.55</td>\n",
       "      <td>99999</td>\n",
       "      <td>United Kingdom</td>\n",
       "    </tr>\n",
       "    <tr>\n",
       "      <th>1</th>\n",
       "      <td>999999</td>\n",
       "      <td>85123A</td>\n",
       "      <td>WHITE HANGING HEART T-LIGHT HOLDER</td>\n",
       "      <td>6</td>\n",
       "      <td>2010-02-01 08:26:00</td>\n",
       "      <td>2.55</td>\n",
       "      <td>99999</td>\n",
       "      <td>United Kingdom</td>\n",
       "    </tr>\n",
       "    <tr>\n",
       "      <th>2</th>\n",
       "      <td>999999</td>\n",
       "      <td>85123A</td>\n",
       "      <td>WHITE HANGING HEART T-LIGHT HOLDER</td>\n",
       "      <td>6</td>\n",
       "      <td>2010-03-01 08:26:00</td>\n",
       "      <td>2.55</td>\n",
       "      <td>99999</td>\n",
       "      <td>United Kingdom</td>\n",
       "    </tr>\n",
       "    <tr>\n",
       "      <th>3</th>\n",
       "      <td>999999</td>\n",
       "      <td>85123A</td>\n",
       "      <td>WHITE HANGING HEART T-LIGHT HOLDER</td>\n",
       "      <td>6</td>\n",
       "      <td>2010-04-01 08:26:00</td>\n",
       "      <td>2.55</td>\n",
       "      <td>99999</td>\n",
       "      <td>United Kingdom</td>\n",
       "    </tr>\n",
       "    <tr>\n",
       "      <th>4</th>\n",
       "      <td>999999</td>\n",
       "      <td>85123A</td>\n",
       "      <td>WHITE HANGING HEART T-LIGHT HOLDER</td>\n",
       "      <td>6</td>\n",
       "      <td>2010-05-01 08:26:00</td>\n",
       "      <td>2.55</td>\n",
       "      <td>99999</td>\n",
       "      <td>United Kingdom</td>\n",
       "    </tr>\n",
       "  </tbody>\n",
       "</table>\n",
       "</div>"
      ],
      "text/plain": [
       "   InvoiceNo StockCode                         Description  Quantity  \\\n",
       "0     999999    85123A  WHITE HANGING HEART T-LIGHT HOLDER         6   \n",
       "1     999999    85123A  WHITE HANGING HEART T-LIGHT HOLDER         6   \n",
       "2     999999    85123A  WHITE HANGING HEART T-LIGHT HOLDER         6   \n",
       "3     999999    85123A  WHITE HANGING HEART T-LIGHT HOLDER         6   \n",
       "4     999999    85123A  WHITE HANGING HEART T-LIGHT HOLDER         6   \n",
       "\n",
       "          InvoiceDate  UnitPrice  CustomerID         Country  \n",
       "0 2010-01-01 08:26:00       2.55       99999  United Kingdom  \n",
       "1 2010-02-01 08:26:00       2.55       99999  United Kingdom  \n",
       "2 2010-03-01 08:26:00       2.55       99999  United Kingdom  \n",
       "3 2010-04-01 08:26:00       2.55       99999  United Kingdom  \n",
       "4 2010-05-01 08:26:00       2.55       99999  United Kingdom  "
      ]
     },
     "execution_count": 84,
     "metadata": {},
     "output_type": "execute_result"
    }
   ],
   "source": [
    "dfbase = pd.read_excel(CT_DIR_DATA + 'BaseRetail.xlsx')\n",
    "print(dfbase.shape)\n",
    "dfbase.head()"
   ]
  },
  {
   "cell_type": "code",
   "execution_count": 85,
   "metadata": {},
   "outputs": [
    {
     "name": "stdout",
     "output_type": "stream",
     "text": [
      "(13, 8)\n"
     ]
    },
    {
     "data": {
      "text/html": [
       "<div>\n",
       "<style>\n",
       "    .dataframe thead tr:only-child th {\n",
       "        text-align: right;\n",
       "    }\n",
       "\n",
       "    .dataframe thead th {\n",
       "        text-align: left;\n",
       "    }\n",
       "\n",
       "    .dataframe tbody tr th {\n",
       "        vertical-align: top;\n",
       "    }\n",
       "</style>\n",
       "<table border=\"1\" class=\"dataframe\">\n",
       "  <thead>\n",
       "    <tr style=\"text-align: right;\">\n",
       "      <th></th>\n",
       "      <th>InvoiceNo</th>\n",
       "      <th>StockCode</th>\n",
       "      <th>Description</th>\n",
       "      <th>Quantity</th>\n",
       "      <th>InvoiceDate</th>\n",
       "      <th>UnitPrice</th>\n",
       "      <th>CustomerID</th>\n",
       "      <th>Country</th>\n",
       "    </tr>\n",
       "  </thead>\n",
       "  <tbody>\n",
       "    <tr>\n",
       "      <th>0</th>\n",
       "      <td>536365</td>\n",
       "      <td>85123A</td>\n",
       "      <td>WHITE HANGING HEART T-LIGHT HOLDER</td>\n",
       "      <td>6</td>\n",
       "      <td>2010-12-01 08:26:00</td>\n",
       "      <td>2.55</td>\n",
       "      <td>17850</td>\n",
       "      <td>United Kingdom</td>\n",
       "    </tr>\n",
       "    <tr>\n",
       "      <th>0</th>\n",
       "      <td>999999</td>\n",
       "      <td>85123A</td>\n",
       "      <td>WHITE HANGING HEART T-LIGHT HOLDER</td>\n",
       "      <td>6</td>\n",
       "      <td>2010-01-01 08:26:00</td>\n",
       "      <td>2.55</td>\n",
       "      <td>99999</td>\n",
       "      <td>United Kingdom</td>\n",
       "    </tr>\n",
       "    <tr>\n",
       "      <th>1</th>\n",
       "      <td>999999</td>\n",
       "      <td>85123A</td>\n",
       "      <td>WHITE HANGING HEART T-LIGHT HOLDER</td>\n",
       "      <td>6</td>\n",
       "      <td>2010-02-01 08:26:00</td>\n",
       "      <td>2.55</td>\n",
       "      <td>99999</td>\n",
       "      <td>United Kingdom</td>\n",
       "    </tr>\n",
       "    <tr>\n",
       "      <th>2</th>\n",
       "      <td>999999</td>\n",
       "      <td>85123A</td>\n",
       "      <td>WHITE HANGING HEART T-LIGHT HOLDER</td>\n",
       "      <td>6</td>\n",
       "      <td>2010-03-01 08:26:00</td>\n",
       "      <td>2.55</td>\n",
       "      <td>99999</td>\n",
       "      <td>United Kingdom</td>\n",
       "    </tr>\n",
       "    <tr>\n",
       "      <th>3</th>\n",
       "      <td>999999</td>\n",
       "      <td>85123A</td>\n",
       "      <td>WHITE HANGING HEART T-LIGHT HOLDER</td>\n",
       "      <td>6</td>\n",
       "      <td>2010-04-01 08:26:00</td>\n",
       "      <td>2.55</td>\n",
       "      <td>99999</td>\n",
       "      <td>United Kingdom</td>\n",
       "    </tr>\n",
       "  </tbody>\n",
       "</table>\n",
       "</div>"
      ],
      "text/plain": [
       "   InvoiceNo StockCode                         Description  Quantity  \\\n",
       "0     536365    85123A  WHITE HANGING HEART T-LIGHT HOLDER         6   \n",
       "0     999999    85123A  WHITE HANGING HEART T-LIGHT HOLDER         6   \n",
       "1     999999    85123A  WHITE HANGING HEART T-LIGHT HOLDER         6   \n",
       "2     999999    85123A  WHITE HANGING HEART T-LIGHT HOLDER         6   \n",
       "3     999999    85123A  WHITE HANGING HEART T-LIGHT HOLDER         6   \n",
       "\n",
       "          InvoiceDate  UnitPrice  CustomerID         Country  \n",
       "0 2010-12-01 08:26:00       2.55       17850  United Kingdom  \n",
       "0 2010-01-01 08:26:00       2.55       99999  United Kingdom  \n",
       "1 2010-02-01 08:26:00       2.55       99999  United Kingdom  \n",
       "2 2010-03-01 08:26:00       2.55       99999  United Kingdom  \n",
       "3 2010-04-01 08:26:00       2.55       99999  United Kingdom  "
      ]
     },
     "execution_count": 85,
     "metadata": {},
     "output_type": "execute_result"
    }
   ],
   "source": [
    "df = df.append(dfbase)\n",
    "print(df.shape)\n",
    "df.head()"
   ]
  },
  {
   "cell_type": "code",
   "execution_count": 97,
   "metadata": {},
   "outputs": [
    {
     "name": "stdout",
     "output_type": "stream",
     "text": [
      "Date de référence : 2010-12-02 00:00:00\n"
     ]
    },
    {
     "data": {
      "text/plain": [
       "array([2, 0], dtype=int64)"
      ]
     },
     "metadata": {},
     "output_type": "display_data"
    },
    {
     "data": {
      "text/html": [
       "<div>\n",
       "<style>\n",
       "    .dataframe thead tr:only-child th {\n",
       "        text-align: right;\n",
       "    }\n",
       "\n",
       "    .dataframe thead th {\n",
       "        text-align: left;\n",
       "    }\n",
       "\n",
       "    .dataframe tbody tr th {\n",
       "        vertical-align: top;\n",
       "    }\n",
       "</style>\n",
       "<table border=\"1\" class=\"dataframe\">\n",
       "  <thead>\n",
       "    <tr style=\"text-align: right;\">\n",
       "      <th></th>\n",
       "      <th>CustomerCategory</th>\n",
       "    </tr>\n",
       "    <tr>\n",
       "      <th>CustomerID</th>\n",
       "      <th></th>\n",
       "    </tr>\n",
       "  </thead>\n",
       "  <tbody>\n",
       "    <tr>\n",
       "      <th>17850</th>\n",
       "      <td>2</td>\n",
       "    </tr>\n",
       "    <tr>\n",
       "      <th>99999</th>\n",
       "      <td>0</td>\n",
       "    </tr>\n",
       "  </tbody>\n",
       "</table>\n",
       "</div>"
      ],
      "text/plain": [
       "            CustomerCategory\n",
       "CustomerID                  \n",
       "17850                      2\n",
       "99999                      0"
      ]
     },
     "execution_count": 97,
     "metadata": {},
     "output_type": "execute_result"
    }
   ],
   "source": [
    "result = getCategory(df)\n",
    "result"
   ]
  },
  {
   "cell_type": "code",
   "execution_count": 110,
   "metadata": {
    "scrolled": true
   },
   "outputs": [
    {
     "data": {
      "text/html": [
       "<div>\n",
       "<style>\n",
       "    .dataframe thead tr:only-child th {\n",
       "        text-align: right;\n",
       "    }\n",
       "\n",
       "    .dataframe thead th {\n",
       "        text-align: left;\n",
       "    }\n",
       "\n",
       "    .dataframe tbody tr th {\n",
       "        vertical-align: top;\n",
       "    }\n",
       "</style>\n",
       "<table border=\"1\" class=\"dataframe\">\n",
       "  <thead>\n",
       "    <tr style=\"text-align: right;\">\n",
       "      <th></th>\n",
       "      <th>CustomerCategory</th>\n",
       "    </tr>\n",
       "    <tr>\n",
       "      <th>CustomerID</th>\n",
       "      <th></th>\n",
       "    </tr>\n",
       "  </thead>\n",
       "  <tbody>\n",
       "    <tr>\n",
       "      <th>17850</th>\n",
       "      <td>2</td>\n",
       "    </tr>\n",
       "  </tbody>\n",
       "</table>\n",
       "</div>"
      ],
      "text/plain": [
       "            CustomerCategory\n",
       "CustomerID                  \n",
       "17850                      2"
      ]
     },
     "execution_count": 110,
     "metadata": {},
     "output_type": "execute_result"
    }
   ],
   "source": [
    "result = result[result.index != 99999]\n",
    "result"
   ]
  },
  {
   "cell_type": "code",
   "execution_count": 95,
   "metadata": {},
   "outputs": [],
   "source": [
    "result.to_excel(CT_DIR_DATA + 'result.xlsx', index=True)"
   ]
  }
 ],
 "metadata": {
  "kernelspec": {
   "display_name": "Python 3",
   "language": "python",
   "name": "python3"
  },
  "language_info": {
   "codemirror_mode": {
    "name": "ipython",
    "version": 3
   },
   "file_extension": ".py",
   "mimetype": "text/x-python",
   "name": "python",
   "nbconvert_exporter": "python",
   "pygments_lexer": "ipython3",
   "version": "3.6.4"
  }
 },
 "nbformat": 4,
 "nbformat_minor": 2
}
